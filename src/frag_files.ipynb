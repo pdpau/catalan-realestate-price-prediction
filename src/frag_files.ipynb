{
 "cells": [
  {
   "cell_type": "code",
   "execution_count": null,
   "metadata": {},
   "outputs": [],
   "source": [
    "\"\"\" import geopandas as gpd\n",
    "\n",
    "# Carga el archivo SHP\n",
    "shapefile = gpd.read_file(\"../data_raw/ALQ/ALQ_Distritos_2022_Web.shp\")\n",
    "\n",
    "# Guarda los datos en un archivo CSV\n",
    "shapefile.to_csv(\"distritos.csv\", index=False) \"\"\""
   ]
  },
  {
   "cell_type": "code",
   "execution_count": 5,
   "metadata": {},
   "outputs": [],
   "source": [
    "import pandas as pd\n",
    "\n",
    "distritos = pd.read_csv('distritos.csv', sep=',')\n",
    "# Split archivo.csv into 4 parts\n",
    "distritos1 = distritos.iloc[:3300]\n",
    "distritos2 = distritos.iloc[3301:7000]\n",
    "distritos3 = distritos.iloc[7001:8800]\n",
    "distritos4 = distritos.iloc[8801:]\n",
    "\n",
    "distritos1.to_csv('distritos1.csv', sep=',')\n",
    "distritos2.to_csv('distritos2.csv', sep=',')\n",
    "distritos3.to_csv('distritos3.csv', sep=',')\n",
    "distritos4.to_csv('distritos4.csv', sep=',')"
   ]
  },
  {
   "cell_type": "code",
   "execution_count": null,
   "metadata": {},
   "outputs": [],
   "source": [
    "# Split pisos_clean in 3 parts\n",
    "#pisos_clean = pd.read_csv('pisos_clean.csv', sep=',')"
   ]
  }
 ],
 "metadata": {
  "kernelspec": {
   "display_name": "Python 3",
   "language": "python",
   "name": "python3"
  },
  "language_info": {
   "codemirror_mode": {
    "name": "ipython",
    "version": 3
   },
   "file_extension": ".py",
   "mimetype": "text/x-python",
   "name": "python",
   "nbconvert_exporter": "python",
   "pygments_lexer": "ipython3",
   "version": "3.12.2"
  }
 },
 "nbformat": 4,
 "nbformat_minor": 2
}
