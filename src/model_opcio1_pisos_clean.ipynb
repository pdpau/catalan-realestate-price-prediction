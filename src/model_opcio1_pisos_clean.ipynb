{
 "cells": [
  {
   "cell_type": "markdown",
   "metadata": {},
   "source": [
    "# Title: ..."
   ]
  },
  {
   "cell_type": "markdown",
   "metadata": {},
   "source": [
    "## 0. Imports"
   ]
  },
  {
   "cell_type": "code",
   "execution_count": 15,
   "metadata": {},
   "outputs": [],
   "source": [
    "# Notebook similar to: https://www.kaggle.com/code/gracehephzibahm/prediction-of-rent-prices-in-barcelona\n",
    "# Web scraper with good insights and EDA: https://github.com/agonzalezramos/Idealista-Price-Prediction/tree/main\n",
    "\n",
    "# Dataset pisos.csv https://www.kaggle.com/datasets/thedevastator/analysis-of-spanish-apartment-pricing-and-size-p (cita: https://zenodo.org/records/4263693)"
   ]
  },
  {
   "cell_type": "code",
   "execution_count": 16,
   "metadata": {},
   "outputs": [],
   "source": [
    "import pandas as pd\n",
    "import numpy as np\n",
    "import matplotlib.pyplot as plt\n",
    "import seaborn as sns"
   ]
  },
  {
   "cell_type": "markdown",
   "metadata": {},
   "source": [
    "## 1. Load Data"
   ]
  },
  {
   "cell_type": "code",
   "execution_count": 17,
   "metadata": {},
   "outputs": [
    {
     "name": "stderr",
     "output_type": "stream",
     "text": [
      "C:\\Users\\pdpau\\AppData\\Local\\Temp\\ipykernel_18708\\4198264111.py:2: DtypeWarning: Columns (6) have mixed types. Specify dtype option on import or set low_memory=False.\n",
      "  og_df = pd.read_csv('../data/pisos_clean.csv', sep=',')\n"
     ]
    }
   ],
   "source": [
    "# Load Data\n",
    "og_df = pd.read_csv('../data/pisos_clean.csv', sep=',')"
   ]
  },
  {
   "cell_type": "markdown",
   "metadata": {},
   "source": [
    "## 2. Data Preparation"
   ]
  },
  {
   "cell_type": "code",
   "execution_count": 18,
   "metadata": {},
   "outputs": [
    {
     "data": {
      "text/html": [
       "<div>\n",
       "<style scoped>\n",
       "    .dataframe tbody tr th:only-of-type {\n",
       "        vertical-align: middle;\n",
       "    }\n",
       "\n",
       "    .dataframe tbody tr th {\n",
       "        vertical-align: top;\n",
       "    }\n",
       "\n",
       "    .dataframe thead th {\n",
       "        text-align: right;\n",
       "    }\n",
       "</style>\n",
       "<table border=\"1\" class=\"dataframe\">\n",
       "  <thead>\n",
       "    <tr style=\"text-align: right;\">\n",
       "      <th></th>\n",
       "      <th>summary</th>\n",
       "      <th>location</th>\n",
       "      <th>price</th>\n",
       "      <th>size</th>\n",
       "      <th>rooms</th>\n",
       "      <th>price/m2</th>\n",
       "      <th>bathrooms</th>\n",
       "      <th>Num Photos</th>\n",
       "      <th>type</th>\n",
       "      <th>region</th>\n",
       "    </tr>\n",
       "  </thead>\n",
       "  <tbody>\n",
       "    <tr>\n",
       "      <th>0</th>\n",
       "      <td>Casa en calle Urb. Las Mimosas</td>\n",
       "      <td>Ames (San Tome)</td>\n",
       "      <td>250.000 €</td>\n",
       "      <td>315 m²</td>\n",
       "      <td>4</td>\n",
       "      <td>793 €/m²</td>\n",
       "      <td>3</td>\n",
       "      <td>31</td>\n",
       "      <td>pisos</td>\n",
       "      <td>a_coruna</td>\n",
       "    </tr>\n",
       "    <tr>\n",
       "      <th>1</th>\n",
       "      <td>Piso en Milladoiro</td>\n",
       "      <td>Ames (San Tome)</td>\n",
       "      <td>90.000 €</td>\n",
       "      <td>72 m²</td>\n",
       "      <td>2</td>\n",
       "      <td>1.250 €/m²</td>\n",
       "      <td>1</td>\n",
       "      <td>11</td>\n",
       "      <td>pisos</td>\n",
       "      <td>a_coruna</td>\n",
       "    </tr>\n",
       "    <tr>\n",
       "      <th>2</th>\n",
       "      <td>Casa en calle La Piedra</td>\n",
       "      <td>A Ortigueira (Cariño)</td>\n",
       "      <td>50.000 €</td>\n",
       "      <td>92 m²</td>\n",
       "      <td>2</td>\n",
       "      <td>543 €/m²</td>\n",
       "      <td>1</td>\n",
       "      <td>40</td>\n",
       "      <td>pisos</td>\n",
       "      <td>a_coruna</td>\n",
       "    </tr>\n",
       "    <tr>\n",
       "      <th>3</th>\n",
       "      <td>Casa en Perillo</td>\n",
       "      <td>Perillo (Oleiros)</td>\n",
       "      <td>359.000 €</td>\n",
       "      <td>244 m²</td>\n",
       "      <td>4</td>\n",
       "      <td>1.471 €/m²</td>\n",
       "      <td>3</td>\n",
       "      <td>39</td>\n",
       "      <td>pisos</td>\n",
       "      <td>a_coruna</td>\n",
       "    </tr>\n",
       "    <tr>\n",
       "      <th>4</th>\n",
       "      <td>Chalet en Urbanización Las Mimosas</td>\n",
       "      <td>O Milladoiro (Ames)</td>\n",
       "      <td>200.430 €</td>\n",
       "      <td>315 m²</td>\n",
       "      <td>4</td>\n",
       "      <td>636 €/m²</td>\n",
       "      <td>3</td>\n",
       "      <td>24</td>\n",
       "      <td>pisos</td>\n",
       "      <td>a_coruna</td>\n",
       "    </tr>\n",
       "  </tbody>\n",
       "</table>\n",
       "</div>"
      ],
      "text/plain": [
       "                              summary               location      price  \\\n",
       "0      Casa en calle Urb. Las Mimosas        Ames (San Tome)  250.000 €   \n",
       "1                  Piso en Milladoiro        Ames (San Tome)   90.000 €   \n",
       "2             Casa en calle La Piedra  A Ortigueira (Cariño)   50.000 €   \n",
       "3                     Casa en Perillo      Perillo (Oleiros)  359.000 €   \n",
       "4  Chalet en Urbanización Las Mimosas    O Milladoiro (Ames)  200.430 €   \n",
       "\n",
       "     size rooms    price/m2 bathrooms Num Photos   type    region  \n",
       "0  315 m²     4    793 €/m²         3         31  pisos  a_coruna  \n",
       "1   72 m²     2  1.250 €/m²         1         11  pisos  a_coruna  \n",
       "2   92 m²     2    543 €/m²         1         40  pisos  a_coruna  \n",
       "3  244 m²     4  1.471 €/m²         3         39  pisos  a_coruna  \n",
       "4  315 m²     4    636 €/m²         3         24  pisos  a_coruna  "
      ]
     },
     "execution_count": 18,
     "metadata": {},
     "output_type": "execute_result"
    }
   ],
   "source": [
    "df = og_df.copy()\n",
    "\n",
    "df.head(5)"
   ]
  },
  {
   "cell_type": "code",
   "execution_count": 19,
   "metadata": {},
   "outputs": [
    {
     "name": "stdout",
     "output_type": "stream",
     "text": [
      "<class 'pandas.core.frame.DataFrame'>\n",
      "Index: 719459 entries, 0 to 777178\n",
      "Data columns (total 10 columns):\n",
      " #   Column      Non-Null Count   Dtype \n",
      "---  ------      --------------   ----- \n",
      " 0   summary     719459 non-null  object\n",
      " 1   location    719459 non-null  object\n",
      " 2   price       719459 non-null  object\n",
      " 3   size        719459 non-null  object\n",
      " 4   rooms       719459 non-null  object\n",
      " 5   price/m2    719459 non-null  object\n",
      " 6   bathrooms   719459 non-null  object\n",
      " 7   Num Photos  719459 non-null  object\n",
      " 8   type        719459 non-null  object\n",
      " 9   region      719459 non-null  object\n",
      "dtypes: object(10)\n",
      "memory usage: 60.4+ MB\n"
     ]
    }
   ],
   "source": [
    "# Drop NaN values\n",
    "df.dropna(inplace=True)\n",
    "df.info()"
   ]
  },
  {
   "cell_type": "markdown",
   "metadata": {},
   "source": [
    "## 3. Exploratory Data Analysis"
   ]
  },
  {
   "cell_type": "code",
   "execution_count": 20,
   "metadata": {},
   "outputs": [
    {
     "data": {
      "text/html": [
       "<div>\n",
       "<style scoped>\n",
       "    .dataframe tbody tr th:only-of-type {\n",
       "        vertical-align: middle;\n",
       "    }\n",
       "\n",
       "    .dataframe tbody tr th {\n",
       "        vertical-align: top;\n",
       "    }\n",
       "\n",
       "    .dataframe thead th {\n",
       "        text-align: right;\n",
       "    }\n",
       "</style>\n",
       "<table border=\"1\" class=\"dataframe\">\n",
       "  <thead>\n",
       "    <tr style=\"text-align: right;\">\n",
       "      <th></th>\n",
       "      <th>summary</th>\n",
       "      <th>location</th>\n",
       "      <th>price</th>\n",
       "      <th>size</th>\n",
       "      <th>rooms</th>\n",
       "      <th>price/m2</th>\n",
       "      <th>bathrooms</th>\n",
       "      <th>Num Photos</th>\n",
       "      <th>type</th>\n",
       "      <th>region</th>\n",
       "    </tr>\n",
       "  </thead>\n",
       "  <tbody>\n",
       "    <tr>\n",
       "      <th>0</th>\n",
       "      <td>Casa en calle Urb. Las Mimosas</td>\n",
       "      <td>Ames (San Tome)</td>\n",
       "      <td>250.000 €</td>\n",
       "      <td>315 m²</td>\n",
       "      <td>4</td>\n",
       "      <td>793 €/m²</td>\n",
       "      <td>3</td>\n",
       "      <td>31</td>\n",
       "      <td>pisos</td>\n",
       "      <td>a_coruna</td>\n",
       "    </tr>\n",
       "    <tr>\n",
       "      <th>1</th>\n",
       "      <td>Piso en Milladoiro</td>\n",
       "      <td>Ames (San Tome)</td>\n",
       "      <td>90.000 €</td>\n",
       "      <td>72 m²</td>\n",
       "      <td>2</td>\n",
       "      <td>1.250 €/m²</td>\n",
       "      <td>1</td>\n",
       "      <td>11</td>\n",
       "      <td>pisos</td>\n",
       "      <td>a_coruna</td>\n",
       "    </tr>\n",
       "    <tr>\n",
       "      <th>2</th>\n",
       "      <td>Casa en calle La Piedra</td>\n",
       "      <td>A Ortigueira (Cariño)</td>\n",
       "      <td>50.000 €</td>\n",
       "      <td>92 m²</td>\n",
       "      <td>2</td>\n",
       "      <td>543 €/m²</td>\n",
       "      <td>1</td>\n",
       "      <td>40</td>\n",
       "      <td>pisos</td>\n",
       "      <td>a_coruna</td>\n",
       "    </tr>\n",
       "    <tr>\n",
       "      <th>3</th>\n",
       "      <td>Casa en Perillo</td>\n",
       "      <td>Perillo (Oleiros)</td>\n",
       "      <td>359.000 €</td>\n",
       "      <td>244 m²</td>\n",
       "      <td>4</td>\n",
       "      <td>1.471 €/m²</td>\n",
       "      <td>3</td>\n",
       "      <td>39</td>\n",
       "      <td>pisos</td>\n",
       "      <td>a_coruna</td>\n",
       "    </tr>\n",
       "    <tr>\n",
       "      <th>4</th>\n",
       "      <td>Chalet en Urbanización Las Mimosas</td>\n",
       "      <td>O Milladoiro (Ames)</td>\n",
       "      <td>200.430 €</td>\n",
       "      <td>315 m²</td>\n",
       "      <td>4</td>\n",
       "      <td>636 €/m²</td>\n",
       "      <td>3</td>\n",
       "      <td>24</td>\n",
       "      <td>pisos</td>\n",
       "      <td>a_coruna</td>\n",
       "    </tr>\n",
       "  </tbody>\n",
       "</table>\n",
       "</div>"
      ],
      "text/plain": [
       "                              summary               location      price  \\\n",
       "0      Casa en calle Urb. Las Mimosas        Ames (San Tome)  250.000 €   \n",
       "1                  Piso en Milladoiro        Ames (San Tome)   90.000 €   \n",
       "2             Casa en calle La Piedra  A Ortigueira (Cariño)   50.000 €   \n",
       "3                     Casa en Perillo      Perillo (Oleiros)  359.000 €   \n",
       "4  Chalet en Urbanización Las Mimosas    O Milladoiro (Ames)  200.430 €   \n",
       "\n",
       "     size rooms    price/m2 bathrooms Num Photos   type    region  \n",
       "0  315 m²     4    793 €/m²         3         31  pisos  a_coruna  \n",
       "1   72 m²     2  1.250 €/m²         1         11  pisos  a_coruna  \n",
       "2   92 m²     2    543 €/m²         1         40  pisos  a_coruna  \n",
       "3  244 m²     4  1.471 €/m²         3         39  pisos  a_coruna  \n",
       "4  315 m²     4    636 €/m²         3         24  pisos  a_coruna  "
      ]
     },
     "execution_count": 20,
     "metadata": {},
     "output_type": "execute_result"
    }
   ],
   "source": [
    "df.head(5)"
   ]
  },
  {
   "cell_type": "code",
   "execution_count": 21,
   "metadata": {},
   "outputs": [],
   "source": [
    "# Filtrar per BARCELONA\n",
    "df = df[df['region'] == 'barcelona']"
   ]
  },
  {
   "cell_type": "markdown",
   "metadata": {},
   "source": [
    "## 4. Model"
   ]
  },
  {
   "cell_type": "code",
   "execution_count": 22,
   "metadata": {},
   "outputs": [],
   "source": [
    "# Data Cleaning\n",
    "df['price'] = df['price'].str.replace(' €', '')\n",
    "df['price'] = df['price'].str.replace('.', '')\n",
    "# Convertir a numérico manejando errores\n",
    "df['price'] = pd.to_numeric(df['price'], errors='coerce')\n",
    "# Opcionalmente, eliminar filas con valores NaN si se generaron\n",
    "df = df.dropna(subset=['price'])\n",
    "# Convertir a entero\n",
    "df['price'] = df['price'].astype(int)\n",
    "\n",
    "df['size'] = df['size'].str.replace(' m²', '')\n",
    "df['size'] = pd.to_numeric(df['size'], errors='coerce')\n",
    "df = df.dropna(subset=['size'])\n",
    "df['size'] = df['size'].astype(int)\n",
    "\n",
    "df['price/m2'] = df['price'] / df['size']\n",
    "df['price/m2'] = df['price/m2'].astype(float)\n",
    "\n",
    "df.drop(columns=['summary', 'Num Photos'], inplace=True)\n",
    "\n",
    "df['location'] = df['location'].astype(str)\n",
    "df['rooms'] = df['rooms'].astype(int)\n",
    "df['bathrooms'] = df['bathrooms'].astype(int)\n",
    "df['type'] = df['type'].astype(str)\n",
    "df['region'] = df['region'].astype(str)"
   ]
  },
  {
   "cell_type": "code",
   "execution_count": 23,
   "metadata": {},
   "outputs": [
    {
     "name": "stdout",
     "output_type": "stream",
     "text": [
      "<class 'pandas.core.frame.DataFrame'>\n",
      "Index: 9883 entries, 20983 to 269331\n",
      "Data columns (total 8 columns):\n",
      " #   Column     Non-Null Count  Dtype  \n",
      "---  ------     --------------  -----  \n",
      " 0   location   9883 non-null   object \n",
      " 1   price      9883 non-null   int32  \n",
      " 2   size       9883 non-null   int32  \n",
      " 3   rooms      9883 non-null   int32  \n",
      " 4   price/m2   9883 non-null   float64\n",
      " 5   bathrooms  9883 non-null   int32  \n",
      " 6   type       9883 non-null   object \n",
      " 7   region     9883 non-null   object \n",
      "dtypes: float64(1), int32(4), object(3)\n",
      "memory usage: 540.5+ KB\n"
     ]
    }
   ],
   "source": [
    "df.info()"
   ]
  },
  {
   "cell_type": "code",
   "execution_count": 24,
   "metadata": {},
   "outputs": [],
   "source": [
    "# Label encoding\n",
    "from sklearn.preprocessing import LabelEncoder\n",
    "\n",
    "#df.drop(columns=['location'], inplace=True)\n",
    "le_location = LabelEncoder()\n",
    "le_type = LabelEncoder()\n",
    "\n",
    "df.drop(columns=['region'], inplace=True)\n",
    "#le_region = LabelEncoder()\n",
    "\n",
    "df['location'] = le_location.fit_transform(df['location'])\n",
    "df['type'] = le_type.fit_transform(df['type'])\n",
    "#df['region'] = le_region.fit_transform(df['region'])"
   ]
  },
  {
   "cell_type": "code",
   "execution_count": 25,
   "metadata": {},
   "outputs": [],
   "source": [
    "#df['location'].value_counts()\n",
    "\n",
    "# Drop locations with less than 10 ocurrences\n",
    "df = df.groupby('location').filter(lambda x: len(x) > 10)\n",
    "\n",
    "#df['location'].value_counts()\n",
    "\n",
    "#df"
   ]
  },
  {
   "cell_type": "code",
   "execution_count": 26,
   "metadata": {},
   "outputs": [
    {
     "data": {
      "text/plain": [
       "(6468, 2157, 6468, 2157)"
      ]
     },
     "execution_count": 26,
     "metadata": {},
     "output_type": "execute_result"
    }
   ],
   "source": [
    "# Model\n",
    "from sklearn.model_selection import train_test_split\n",
    "\n",
    "X = df.drop(columns=['price'])\n",
    "y = df['price']\n",
    "\n",
    "X_train, X_test, y_train, y_test = train_test_split(X, y, test_size=0.25, random_state=42)\n",
    "\n",
    "len(X_train), len(X_test), len(y_train), len(y_test)"
   ]
  },
  {
   "cell_type": "code",
   "execution_count": 27,
   "metadata": {},
   "outputs": [],
   "source": [
    "from sklearn.ensemble import RandomForestRegressor\n",
    "\n",
    "model = RandomForestRegressor(n_estimators=100, random_state=42)\n",
    "model.fit(X_train, y_train)\n",
    "\n",
    "y_pred = model.predict(X_test)"
   ]
  },
  {
   "cell_type": "markdown",
   "metadata": {},
   "source": [
    "## 5. Evaluation"
   ]
  },
  {
   "cell_type": "code",
   "execution_count": 28,
   "metadata": {},
   "outputs": [
    {
     "name": "stdout",
     "output_type": "stream",
     "text": [
      "Mean Squared Error: 12647054210.110846\n",
      "Mean Absolute Error: 12240.745164580436\n",
      "R2 Score: 0.9415559663186119\n"
     ]
    }
   ],
   "source": [
    "from sklearn.metrics import mean_squared_error\n",
    "from sklearn.metrics import mean_absolute_error\n",
    "from sklearn.metrics import r2_score\n",
    "\n",
    "print('Mean Squared Error:', mean_squared_error(y_test, y_pred))\n",
    "print('Mean Absolute Error:', mean_absolute_error(y_test, y_pred))\n",
    "print('R2 Score:', r2_score(y_test, y_pred))"
   ]
  },
  {
   "cell_type": "markdown",
   "metadata": {},
   "source": [
    "## 6. Explainability"
   ]
  },
  {
   "cell_type": "code",
   "execution_count": null,
   "metadata": {},
   "outputs": [],
   "source": []
  }
 ],
 "metadata": {
  "kernelspec": {
   "display_name": "Python 3",
   "language": "python",
   "name": "python3"
  },
  "language_info": {
   "codemirror_mode": {
    "name": "ipython",
    "version": 3
   },
   "file_extension": ".py",
   "mimetype": "text/x-python",
   "name": "python",
   "nbconvert_exporter": "python",
   "pygments_lexer": "ipython3",
   "version": "3.12.2"
  }
 },
 "nbformat": 4,
 "nbformat_minor": 2
}
